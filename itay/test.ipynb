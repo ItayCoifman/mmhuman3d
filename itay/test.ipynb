{
 "cells": [
  {
   "cell_type": "markdown",
   "source": [
    "# Initialize"
   ],
   "metadata": {
    "collapsed": false
   },
   "id": "d7035aef53d01e8"
  },
  {
   "cell_type": "markdown",
   "source": [
    "## Imports"
   ],
   "metadata": {
    "collapsed": false
   },
   "id": "277cbb0fbc7f8795"
  },
  {
   "cell_type": "code",
   "outputs": [
    {
     "name": "stderr",
     "output_type": "stream",
     "text": [
      "No CUDA runtime is found, using CUDA_HOME='C:\\Program Files\\NVIDIA GPU Computing Toolkit\\CUDA\\v11.8'\n",
      "C:\\Users\\owner\\anaconda3\\envs\\open-mmlab\\lib\\site-packages\\mmcv\\__init__.py:20: UserWarning: On January 1, 2023, MMCV will release v2.0.0, in which it will remove components related to the training process and add a data transformation module. In addition, it will rename the package names mmcv to mmcv-lite and mmcv-full to mmcv. See https://github.com/open-mmlab/mmcv/blob/master/docs/en/compatibility.md for more details.\n",
      "  warnings.warn(\n"
     ]
    }
   ],
   "source": [
    "from mmhuman3d.data.data_structures.human_data import HumanData\n",
    "from pathlib import Path\n",
    "import numpy as np\n",
    "import cv2\n",
    "from tqdm import tqdm\n",
    "from PIL import Image\n",
    "import torch\n",
    "import matplotlib.pyplot as plt\n",
    "import pandas as pd\n",
    "import plotly.graph_objs as go\n",
    "from plotly.subplots import make_subplots"
   ],
   "metadata": {
    "collapsed": true,
    "ExecuteTime": {
     "end_time": "2024-04-08T13:04:01.562279100Z",
     "start_time": "2024-04-08T13:03:54.668658300Z"
    }
   },
   "id": "initial_id",
   "execution_count": 1
  },
  {
   "cell_type": "markdown",
   "source": [
    "## Path"
   ],
   "metadata": {
    "collapsed": false
   },
   "id": "278d0c58f31a42a9"
  },
  {
   "cell_type": "code",
   "outputs": [],
   "source": [
    "data_root = Path('D:/MMLAB/mmhuman3d/data/Samples/run_0/')\n",
    "input_vid = data_root/ 'yoga.mp4'\n",
    "mesh_vid = data_root/ 'smplx.mp4'\n",
    "output_vid = data_root/ 'output.mp4'"
   ],
   "metadata": {
    "collapsed": false,
    "ExecuteTime": {
     "end_time": "2024-04-08T13:04:01.585622900Z",
     "start_time": "2024-04-08T13:04:01.563279200Z"
    }
   },
   "id": "cacf9c38e56a6d98",
   "execution_count": 2
  },
  {
   "cell_type": "markdown",
   "source": [
    "## Constants"
   ],
   "metadata": {
    "collapsed": false
   },
   "id": "1adcc223d77196ad"
  },
  {
   "cell_type": "code",
   "outputs": [
    {
     "data": {
      "text/plain": "                  CoM      Mass Radius of gyration        proximal  \\\nPelvis            0.5  0.148071               0.31       right hip   \nThorax_a         0.63  0.185089               0.31        left hip   \nThorax_b         0.63  0.185089               0.31       right hip   \nHead              0.5  0.084463              1.116            neck   \nRight Femur     0.567  0.104275               0.54       right hip   \nLeft Femur      0.567  0.104275               0.54        left hip   \nRight Tibia     0.567  0.048488              0.528      right knee   \nLeft Tibia      0.567  0.048488              0.528       left knee   \nRight Humorous  0.564  0.029197              0.542  right shoulder   \nLeft Humorous   0.564  0.029197              0.542   left shoulder   \nRight Radius     0.57  0.016684              0.526     right elbow   \nLeft Radius      0.57  0.016684              0.526      left elbow   \n\n                     distal  proximal_idx  distal_idx  \nPelvis             left hip             2           3  \nThorax_a               neck             3          12  \nThorax_b               neck             2          12  \nHead               head top            12          13  \nRight Femur      right knee             2           1  \nLeft Femur        left knee             3           4  \nRight Tibia     right ankle             1           0  \nLeft Tibia       left ankle             4           5  \nRight Humorous  right elbow             8           7  \nLeft Humorous    left elbow             9          10  \nRight Radius    right wrist             7           6  \nLeft Radius      left wrist            10          11  ",
      "text/html": "<div>\n<style scoped>\n    .dataframe tbody tr th:only-of-type {\n        vertical-align: middle;\n    }\n\n    .dataframe tbody tr th {\n        vertical-align: top;\n    }\n\n    .dataframe thead th {\n        text-align: right;\n    }\n</style>\n<table border=\"1\" class=\"dataframe\">\n  <thead>\n    <tr style=\"text-align: right;\">\n      <th></th>\n      <th>CoM</th>\n      <th>Mass</th>\n      <th>Radius of gyration</th>\n      <th>proximal</th>\n      <th>distal</th>\n      <th>proximal_idx</th>\n      <th>distal_idx</th>\n    </tr>\n  </thead>\n  <tbody>\n    <tr>\n      <th>Pelvis</th>\n      <td>0.5</td>\n      <td>0.148071</td>\n      <td>0.31</td>\n      <td>right hip</td>\n      <td>left hip</td>\n      <td>2</td>\n      <td>3</td>\n    </tr>\n    <tr>\n      <th>Thorax_a</th>\n      <td>0.63</td>\n      <td>0.185089</td>\n      <td>0.31</td>\n      <td>left hip</td>\n      <td>neck</td>\n      <td>3</td>\n      <td>12</td>\n    </tr>\n    <tr>\n      <th>Thorax_b</th>\n      <td>0.63</td>\n      <td>0.185089</td>\n      <td>0.31</td>\n      <td>right hip</td>\n      <td>neck</td>\n      <td>2</td>\n      <td>12</td>\n    </tr>\n    <tr>\n      <th>Head</th>\n      <td>0.5</td>\n      <td>0.084463</td>\n      <td>1.116</td>\n      <td>neck</td>\n      <td>head top</td>\n      <td>12</td>\n      <td>13</td>\n    </tr>\n    <tr>\n      <th>Right Femur</th>\n      <td>0.567</td>\n      <td>0.104275</td>\n      <td>0.54</td>\n      <td>right hip</td>\n      <td>right knee</td>\n      <td>2</td>\n      <td>1</td>\n    </tr>\n    <tr>\n      <th>Left Femur</th>\n      <td>0.567</td>\n      <td>0.104275</td>\n      <td>0.54</td>\n      <td>left hip</td>\n      <td>left knee</td>\n      <td>3</td>\n      <td>4</td>\n    </tr>\n    <tr>\n      <th>Right Tibia</th>\n      <td>0.567</td>\n      <td>0.048488</td>\n      <td>0.528</td>\n      <td>right knee</td>\n      <td>right ankle</td>\n      <td>1</td>\n      <td>0</td>\n    </tr>\n    <tr>\n      <th>Left Tibia</th>\n      <td>0.567</td>\n      <td>0.048488</td>\n      <td>0.528</td>\n      <td>left knee</td>\n      <td>left ankle</td>\n      <td>4</td>\n      <td>5</td>\n    </tr>\n    <tr>\n      <th>Right Humorous</th>\n      <td>0.564</td>\n      <td>0.029197</td>\n      <td>0.542</td>\n      <td>right shoulder</td>\n      <td>right elbow</td>\n      <td>8</td>\n      <td>7</td>\n    </tr>\n    <tr>\n      <th>Left Humorous</th>\n      <td>0.564</td>\n      <td>0.029197</td>\n      <td>0.542</td>\n      <td>left shoulder</td>\n      <td>left elbow</td>\n      <td>9</td>\n      <td>10</td>\n    </tr>\n    <tr>\n      <th>Right Radius</th>\n      <td>0.57</td>\n      <td>0.016684</td>\n      <td>0.526</td>\n      <td>right elbow</td>\n      <td>right wrist</td>\n      <td>7</td>\n      <td>6</td>\n    </tr>\n    <tr>\n      <th>Left Radius</th>\n      <td>0.57</td>\n      <td>0.016684</td>\n      <td>0.526</td>\n      <td>left elbow</td>\n      <td>left wrist</td>\n      <td>10</td>\n      <td>11</td>\n    </tr>\n  </tbody>\n</table>\n</div>"
     },
     "execution_count": 3,
     "metadata": {},
     "output_type": "execute_result"
    }
   ],
   "source": [
    "keypoints_dict ={0:\"right ankle\",1:\"right knee\", 2:\"right hip\", 3:\"left hip\", 4:\"left knee\", 5:\"left ankle\", 6:\"right wrist\", 7:\"right elbow\", 8:\"right shoulder\", 9:\"left shoulder\", 10:\"left elbow\", 11:\"left wrist\", 12:\"neck\", 13:\"head top\"}\n",
    "\n",
    "data = {\n",
    "    \"Pelvis\": {\"CoM\": 0.5, \"Mass\": 0.142, \"Radius of gyration\": 0.31, \"proximal\": \"right hip\" , \"distal\": \"left hip\"},\n",
    "    \"Thorax_a\": {\"CoM\": 0.63, \"Mass\": 0.355/2, \"Radius of gyration\": 0.31, \"proximal\": \"left hip\" , \"distal\": \"neck\"},\n",
    "    \"Thorax_b\": {\"CoM\": 0.63, \"Mass\": 0.355/2, \"Radius of gyration\": 0.31, \"proximal\": \"right hip\" , \"distal\": \"neck\"},\n",
    "    \"Head\": {\"CoM\": 0.5, \"Mass\": 0.081, \"Radius of gyration\": 1.116, \"proximal\": \"neck\" , \"distal\": \"head top\"},\n",
    "    \"Right Femur\": {\"CoM\": 0.567, \"Mass\": 0.1, \"Radius of gyration\": 0.54, \"proximal\": \"right hip\" , \"distal\": \"right knee\"},\n",
    "    \"Left Femur\": {\"CoM\": 0.567, \"Mass\": 0.1, \"Radius of gyration\": 0.54, \"proximal\": \"left hip\" , \"distal\": \"left knee\"},\n",
    "    \"Right Tibia\": {\"CoM\": 0.567, \"Mass\": 0.0465, \"Radius of gyration\": 0.528, \"proximal\": \"right knee\" , \"distal\": \"right ankle\"},\n",
    "    \"Left Tibia\": {\"CoM\": 0.567, \"Mass\": 0.0465, \"Radius of gyration\": 0.528, \"proximal\": \"left knee\" , \"distal\": \"left ankle\"},\n",
    "    \"Right Humorous\": {\"CoM\": 0.564, \"Mass\": 0.028, \"Radius of gyration\": 0.542, \"proximal\": \"right shoulder\" , \"distal\": \"right elbow\"},\n",
    "    \"Left Humorous\": {\"CoM\": 0.564, \"Mass\": 0.028, \"Radius of gyration\": 0.542, \"proximal\": \"left shoulder\" , \"distal\": \"left elbow\"},\n",
    "    \"Right Radius\": {\"CoM\": 0.57, \"Mass\": 0.016, \"Radius of gyration\": 0.526, \"proximal\": \"right elbow\" , \"distal\": \"right wrist\"},\n",
    "    \"Left Radius\": {\"CoM\": 0.57, \"Mass\": 0.016, \"Radius of gyration\": 0.526, \"proximal\": \"left elbow\" , \"distal\": \"left wrist\"},\n",
    "    #\"Foot\": {\"CoM\": 0.5, \"Mass\": 0.0145, \"Radius of gyration\": 0.69, \"proximal\": \"L5/S1\" , \"distal\": \"Hip\"},\n",
    "    #\"Hand\": {\"CoM\": 0.6205, \"Mass\": 0.006, \"Radius of gyration\": 0.44, \"proximal\": \"L5/S1\" , \"distal\": \"Hip\"},\n",
    "}\n",
    "# \n",
    "segments_mat = pd.DataFrame(data).T\n",
    "# redistribute the Mass so the sum will be 1 \n",
    "segments_mat['Mass'] = segments_mat['Mass'] / segments_mat['Mass'].sum()\n",
    "# add to each segment the index of the proximal and distal segment from the keypoints_dict\n",
    "segments_mat['proximal_idx'] = segments_mat['proximal'].apply(lambda x: list(keypoints_dict.keys())[list(keypoints_dict.values()).index(x)])\n",
    "segments_mat['distal_idx'] = segments_mat['distal'].apply(lambda x: list(keypoints_dict.keys())[list(keypoints_dict.values()).index(x)])\n",
    "\n",
    "segments_mat"
   ],
   "metadata": {
    "collapsed": false,
    "ExecuteTime": {
     "end_time": "2024-04-08T13:04:02.078562100Z",
     "start_time": "2024-04-08T13:04:02.003562500Z"
    }
   },
   "id": "9c8b322409ff1553",
   "execution_count": 3
  },
  {
   "cell_type": "markdown",
   "source": [
    "## Load HumanData   "
   ],
   "metadata": {
    "collapsed": false
   },
   "id": "3125e9838af1d709"
  },
  {
   "cell_type": "code",
   "outputs": [],
   "source": [
    "h_data = HumanData.fromfile(data_root /'inference_result.npz')\n",
    "keypoints = h_data['keypoints3d'][:, :, :3]"
   ],
   "metadata": {
    "collapsed": false,
    "ExecuteTime": {
     "end_time": "2024-04-08T13:04:03.791185600Z",
     "start_time": "2024-04-08T13:04:03.668825600Z"
    }
   },
   "id": "d623be3b5e41cd54",
   "execution_count": 4
  },
  {
   "cell_type": "markdown",
   "source": [
    "## Visualization functions"
   ],
   "metadata": {
    "collapsed": false
   },
   "id": "9383aa3ad1fdd69b"
  },
  {
   "cell_type": "code",
   "outputs": [
    {
     "data": {
      "text/plain": "<Figure size 640x480 with 1 Axes>",
      "image/png": "[encoded data removed]"
     },
     "metadata": {},
     "output_type": "display_data"
    }
   ],
   "source": [
    "\n",
    "def visualize_3d_keypoints(keypoints,M = None,bound = True):\n",
    "    # Extracting dimensions\n",
    "    k, _ = keypoints.shape\n",
    "    # Initialize figure and 3D axis\n",
    "    fig = plt.figure()\n",
    "    ax = fig.add_subplot(111, projection='3d')\n",
    "    ax.set_xlabel('X')\n",
    "    ax.set_ylabel('Y')\n",
    "    ax.set_zlabel('Z')\n",
    "    if bound:\n",
    "        # Setting axis limits (You might need to adjust these based on your data)\n",
    "        ax.set_xlim([-1,1])\n",
    "        ax.set_ylim([-1,1])\n",
    "        ax.set_zlim([-1,1])\n",
    "    else:\n",
    "        ax.set_xlim([keypoints[:,0].min(),keypoints[:,0].max()])\n",
    "        ax.set_ylim([keypoints[:,1].min(),keypoints[:,1].max()])\n",
    "        ax.set_zlim([keypoints[:,2].min(),keypoints[:,2].max()])\n",
    "    \n",
    "    # rotate the 3d plot x zero, y zero is at the bottom left\n",
    "    #\n",
    "    # set origin top left corner\n",
    "    ax.invert_yaxis()\n",
    "    current_view = ax.view_init()\n",
    "    ax.view_init(elev=80, azim=-90,roll=0)\n",
    "    \n",
    "    # Plot keypoints\n",
    "    for i in range(k):\n",
    "        ax.scatter(keypoints[i,0], keypoints[i,1], keypoints[i,2])\n",
    "        # add number to each keypoint\n",
    "        #ax.text(keypoints[i,0], keypoints[i,1], keypoints[i,2], '%s' % (str(keypoints_dict[i])), size=10, zorder=1, color='k')\n",
    "    if M is not None:\n",
    "        ax.scatter(M[0], M[1], M[2], c='r', marker='o')\n",
    "        ax.text(M[0], M[1], M[2], 'CoM', size=10, zorder=1, color='k')\n",
    "        \n",
    "    return fig\n",
    "\n",
    "# Example usage\n",
    "# Assuming you have defined keypoints_array and M\n",
    "visualize_3d_keypoints(keypoints[0,:,:],bound = False);"
   ],
   "metadata": {
    "collapsed": false,
    "ExecuteTime": {
     "end_time": "2024-04-08T13:04:05.108472200Z",
     "start_time": "2024-04-08T13:04:04.624440400Z"
    }
   },
   "id": "d3641b48d953b070",
   "execution_count": 5
  },
  {
   "cell_type": "markdown",
   "source": [
    "# Calculate Center of Mass"
   ],
   "metadata": {
    "collapsed": false
   },
   "id": "794bb6869c838b8c"
  },
  {
   "cell_type": "code",
   "outputs": [
    {
     "data": {
      "text/plain": "(97, 3)"
     },
     "execution_count": 6,
     "metadata": {},
     "output_type": "execute_result"
    }
   ],
   "source": [
    "l = segments_mat.CoM.values\n",
    "w = segments_mat.Mass.values\n",
    "\n",
    "proximal,distal = keypoints[:,segments_mat.proximal_idx.values,:], keypoints[:,segments_mat.distal_idx.values,:]\n",
    "p_com = (proximal * l[:,None] + distal * (1-l)[:,None])\n",
    "# M is the matrix that average over the keypoints using the weights (w)\n",
    "M = np.sum(p_com * w[None,:,None], axis = 1)\n",
    "M.shape"
   ],
   "metadata": {
    "collapsed": false,
    "ExecuteTime": {
     "end_time": "2024-04-08T13:04:12.630996200Z",
     "start_time": "2024-04-08T13:04:12.569474700Z"
    }
   },
   "id": "553158a20a52b40a",
   "execution_count": 6
  },
  {
   "cell_type": "code",
   "outputs": [],
   "source": [
    "import plotly.graph_objects as go\n",
    "import webbrowser\n",
    "\n",
    "\n",
    "\n",
    "def scatter_3d(data_list, output_html =\"\", names = None, colors =None, size = 5):\n",
    "    if isinstance(size, int):\n",
    "        size = [size]*len(data_list)\n",
    "    if not isinstance(size, list) :\n",
    "        raise ValueError(\"size should be an integer or a list of integers\") \n",
    "    if colors is None:\n",
    "        colors = [\"blue\",\"red\",\"green\",\"yellow\",\"black\",\"purple\",\"orange\",\"pink\",\"brown\",\"cyan\",\"magenta\",\"grey\",\"lightblue\"]\n",
    "    if names is None:\n",
    "        names = [f\"Data {i}\" for i in range(len(data_list))]\n",
    "    \n",
    "\n",
    "    # Create figure\n",
    "    fig = go.Figure()\n",
    "    for j, data in enumerate(data_list):\n",
    "        fig.add_trace(go.Scatter3d(x=data[0, :, 0], y=data[0, :, 1], z=data[0, :, 2],\n",
    "                                   mode=\"markers\", marker=dict(size=size[j], color=colors[j]),\n",
    "                                   name=names[j]),\n",
    "                      )\n",
    "    # Combine frames alternately\n",
    "    max_length = max([len(data) for data in data_list])\n",
    "    \n",
    "    # Define frames where both data and M are updated\n",
    "    all_frames = []\n",
    "    for i in range(max_length):\n",
    "        frame_data = []\n",
    "        for j, data in enumerate(data_list):\n",
    "            if i < len(data):\n",
    "                frame_data.append(go.Scatter3d(x=data[i, :, 0], y=data[i, :, 1], z=data[i, :, 2],\n",
    "                                               mode=\"markers\", marker=dict(size=size[j], color=colors[j]),)\n",
    "                                  )\n",
    "    \n",
    "        all_frames.append(go.Frame(data=frame_data, name=f'frame{i}'))\n",
    "    \n",
    "    # Update frames\n",
    "    fig.update(frames=all_frames)\n",
    "    \n",
    "    \n",
    "    \n",
    "    \n",
    "    def frame_args(duration):\n",
    "        return {\n",
    "            \"frame\": {\"duration\": duration},\n",
    "            \"mode\": \"immediate\",\n",
    "            \"fromcurrent\": True,\n",
    "            \"transition\": {\"duration\": duration, \"easing\": \"linear\"},\n",
    "        }\n",
    "    \n",
    "    \n",
    "    sliders = [\n",
    "        {\"pad\": {\"b\": 10, \"t\": 60},\n",
    "         \"len\": 0.9,\n",
    "         \"x\": 0.1,\n",
    "         \"y\": 0,\n",
    "    \n",
    "         \"steps\": [\n",
    "             {\"args\": [[f.name], frame_args(0)],\n",
    "              \"label\": str(k),\n",
    "              \"method\": \"animate\",\n",
    "              } for k, f in enumerate(fig.frames)\n",
    "         ]\n",
    "         }\n",
    "    ]\n",
    "    \n",
    "    fig.update_layout(\n",
    "        updatemenus=[{\"buttons\": [\n",
    "            {\n",
    "                \"args\": [None, frame_args(50)],\n",
    "                \"label\": \"Play\",\n",
    "                \"method\": \"animate\",\n",
    "            },\n",
    "            {\n",
    "                \"args\": [[None], frame_args(0)],\n",
    "                \"label\": \"Pause\",\n",
    "                \"method\": \"animate\",\n",
    "            }],\n",
    "            \"direction\": \"left\",\n",
    "            \"pad\": {\"r\": 10, \"t\": 70},\n",
    "            \"type\": \"buttons\",\n",
    "            \"x\": 0.1,\n",
    "            \"y\": 0,\n",
    "        }\n",
    "        ],\n",
    "        sliders=sliders,\n",
    "        scene=dict(xaxis=dict(range=[-1.2, 1.2], autorange=False),\n",
    "                   yaxis=dict(range=[-1.2, 1.2], autorange=False),\n",
    "                   zaxis=dict(range=[-1.2, 1.2], autorange=False),\n",
    "                   aspectmode=\"cube\"\n",
    "    \n",
    "                   )\n",
    "    )\n",
    "    # invert the y axis (ax.invert_yaxis())\n",
    "    \n",
    "    # setup the initial view of the 3d plot so the top left corner is -1,-1\n",
    "    fig.update_layout(scene=dict(camera=dict(up=dict(x=0, y=0, z=0),\n",
    "                                             center=dict(x=0, y=0, z=0),\n",
    "                                             eye=dict(x=1, y=-1, z=-2)\n",
    "                                             )\n",
    "                                   )\n",
    "                      )\n",
    "    # change to white theme\n",
    "    fig.update_layout(template=\"plotly_white\")\n",
    "    \n",
    "    # Save the figure as an HTML file\n",
    "    if output_html:\n",
    "        if not output_html.endswith(\".html\"):\n",
    "            output_html += \".html\"\n",
    "        fig.write_html(output_html)\n",
    "        webbrowser.open(output_html)\n",
    "    \n",
    "    return fig\n",
    "\n",
    "f = scatter_3d(data_list =[keypoints,np.expand_dims(M.copy(), 1)],\n",
    "           output_html = str(data_root/'3d_keypoints.html'),\n",
    "           names = [\"Keypoints\", \"CoM\"],\n",
    "           colors = [\"blue\", \"red\"],\n",
    "           size = 5)       "
   ],
   "metadata": {
    "collapsed": false,
    "ExecuteTime": {
     "end_time": "2024-04-08T13:04:18.671530100Z",
     "start_time": "2024-04-08T13:04:16.401157900Z"
    }
   },
   "id": "c9a6822504d0a14d",
   "execution_count": 7
  },
  {
   "cell_type": "markdown",
   "source": [
    "# use paper volume to calculate the CoM"
   ],
   "metadata": {
    "collapsed": false
   },
   "id": "593cb249c8c1f8b7"
  },
  {
   "cell_type": "code",
   "outputs": [],
   "source": [
    "from itay.utils.part_volumes import PartVolume \n",
    "import torch.nn as nn\n",
    "import pickle as pkl\n",
    "import os.path as osp\n",
    "ESSENTIALS_DIR = 'D:/MMLAB/mmhuman3d/itay/data/essentials'\n",
    "SMPL_PART_BOUNDS = f'{ESSENTIALS_DIR}/yogi_segments/smpl/part_meshes_ply/smpl_segments_bounds.pkl'\n",
    "FID_TO_PART = f'{ESSENTIALS_DIR}/yogi_segments/smpl/part_meshes_ply/fid_to_part.pkl'\n",
    "PART_VID_FID = f'{ESSENTIALS_DIR}/yogi_segments/smpl/part_meshes_ply/smpl_part_vid_fid.pkl'\n",
    "HD_SMPL_MAP  = f'{ESSENTIALS_DIR}/hd_model/smpl/smpl_neutral_hd_sample_from_mesh_out.pkl'\n"
   ],
   "metadata": {
    "collapsed": false,
    "ExecuteTime": {
     "end_time": "2024-04-08T12:42:58.174297600Z",
     "start_time": "2024-04-08T12:42:58.117836600Z"
    }
   },
   "id": "ba143cdf5371a7fc",
   "execution_count": 181
  },
  {
   "cell_type": "code",
   "outputs": [],
   "source": [
    "def sparse_batch_mm(m1, m2):\n",
    "    \"\"\"\n",
    "    https://github.com/pytorch/pytorch/issues/14489\n",
    "\n",
    "    m1: sparse matrix of size N x M\n",
    "    m2: dense matrix of size B x M x K\n",
    "    returns m1@m2 matrix of size B x N x K\n",
    "    \"\"\"\n",
    "\n",
    "    batch_size = m2.shape[0]\n",
    "    # stack m2 into columns: (B x N x K) -> (N, B, K) -> (N, B * K)\n",
    "    m2_stack = m2.transpose(0, 1).reshape(m1.shape[1], -1)\n",
    "    result = m1.mm(m2_stack).reshape(m1.shape[0], batch_size, -1) \\\n",
    "               .transpose(1, 0)\n",
    "    return result\n",
    "\n",
    "class HDfier():\n",
    "    def __init__(self, model_type='smpl', device='cuda'):\n",
    "        hd_operator_path = osp.join(ESSENTIALS_DIR, 'hd_model', model_type,\n",
    "                                    f'{model_type}_neutral_hd_vert_regressor_sparse.npz')\n",
    "        hd_operator = np.load(hd_operator_path)\n",
    "        self.hd_operator = torch.sparse.FloatTensor(\n",
    "            torch.tensor(hd_operator['index_row_col']),\n",
    "            torch.tensor(hd_operator['values']),\n",
    "            torch.Size(hd_operator['size']))\n",
    "        self.model_type = model_type\n",
    "        self.device = device\n",
    "\n",
    "    def hdfy_mesh(self, vertices):\n",
    "        \"\"\"\n",
    "        Applies a regressor that maps SMPL vertices to uniformly distributed vertices\n",
    "        \"\"\"\n",
    "        # device = body.vertices.device\n",
    "        # check if vertices ndim are 3, if not , add a new axis\n",
    "        if vertices.dim() != 3:\n",
    "            # batchify the vertices\n",
    "            vertices = vertices[None, :, :]\n",
    "\n",
    "        # check if vertices are an ndarry, if yes, make pytorch tensor\n",
    "        if isinstance(vertices, np.ndarray):\n",
    "            vertices = torch.from_numpy(vertices).to(self.device)\n",
    "\n",
    "        vertices = vertices.to(torch.double)\n",
    "\n",
    "        if self.hd_operator.device != vertices.device:\n",
    "            self.hd_operator = self.hd_operator.to(vertices.device)\n",
    "        hd_verts = sparse_batch_mm(self.hd_operator, vertices).to(torch.float)\n",
    "        return hd_verts"
   ],
   "metadata": {
    "collapsed": false,
    "ExecuteTime": {
     "end_time": "2024-04-08T12:42:59.672967300Z",
     "start_time": "2024-04-08T12:42:59.636272800Z"
    }
   },
   "id": "9b7632ee44265003",
   "execution_count": 182
  },
  {
   "cell_type": "code",
   "outputs": [],
   "source": [
    "class StabilityLossCoP(nn.Module):\n",
    "    def __init__(self,\n",
    "                 faces,\n",
    "                 cop_w = 10,\n",
    "                 cop_k = 100,\n",
    "                 contact_thresh=0.1,\n",
    "                 model_type='smpl',\n",
    "                 device='cuda',\n",
    "    ):\n",
    "        super().__init__()\n",
    "        \"\"\"\n",
    "        Loss that ensures that the COM of the SMPL mesh is close to the center of support \n",
    "        \"\"\"\n",
    "        if model_type == 'smpl':\n",
    "            num_faces = 13776\n",
    "            num_verts_hd = 20000\n",
    "\n",
    "        assert faces is not None, 'Faces tensor is none'\n",
    "        if type(faces) is not torch.Tensor:\n",
    "            faces = torch.tensor(faces.astype(np.int64), dtype=torch.long).to(device)\n",
    "        self.register_buffer('faces', faces)\n",
    "\n",
    "        self.cop_w = cop_w\n",
    "        self.cop_k = cop_k\n",
    "        self.contact_thresh = contact_thresh\n",
    "\n",
    "        self.hdfy_op = HDfier(model_type=model_type)\n",
    "\n",
    "        with open(SMPL_PART_BOUNDS, 'rb') as f:\n",
    "            d = pkl.load(f)\n",
    "            self.part_bounds = {k: d[k] for k in sorted(d)}\n",
    "        self.part_order = sorted(self.part_bounds)\n",
    "\n",
    "        with open(PART_VID_FID, 'rb') as f:\n",
    "            self.part_vid_fid = pkl.load(f)\n",
    "\n",
    "        # mapping between vid_hd and fid\n",
    "        with open(HD_SMPL_MAP, 'rb') as f:\n",
    "            faces_vert_is_sampled_from = pkl.load(f)['faces_vert_is_sampled_from']\n",
    "        index_row_col = torch.stack(\n",
    "            [torch.LongTensor(np.arange(0, num_verts_hd)), torch.LongTensor(faces_vert_is_sampled_from)], dim=0)\n",
    "        values = torch.ones(num_verts_hd, dtype=torch.float)\n",
    "        size = torch.Size([num_verts_hd, num_faces])\n",
    "        hd_vert_on_fid = torch.sparse.FloatTensor(index_row_col, values, size)\n",
    "\n",
    "        # mapping between fid and part label\n",
    "        with open(FID_TO_PART, 'rb') as f:\n",
    "            fid_to_part_dict = pkl.load(f)\n",
    "        fid_to_part = torch.zeros([len(fid_to_part_dict.keys()), len(self.part_order)], dtype=torch.float32)\n",
    "        for fid, partname in fid_to_part_dict.items():\n",
    "            part_idx = self.part_order.index(partname)\n",
    "            fid_to_part[fid, part_idx] = 1.\n",
    "\n",
    "        # mapping between vid_hd and part label\n",
    "        self.hd_vid_in_part = self.vertex_id_to_part_mapping(hd_vert_on_fid, fid_to_part)\n",
    "\n",
    "    def compute_triangle_area(self, triangles):\n",
    "        ### Compute the area of each triangle in the mesh\n",
    "        # Compute the cross product of the two vectors of each triangle\n",
    "        # Then compute the length of the cross product\n",
    "        # Finally, divide by 2 to get the area of each triangle\n",
    "\n",
    "        vectors = torch.diff(triangles, dim=2)\n",
    "        crosses = torch.cross(vectors[:, :, 0], vectors[:, :, 1])\n",
    "        area = torch.norm(crosses, dim=2) / 2\n",
    "        return area\n",
    "\n",
    "    def compute_per_part_volume(self, vertices):\n",
    "        \"\"\"\n",
    "        Compute the volume of each part in the reposed mesh\n",
    "        \"\"\"\n",
    "        part_volume = []\n",
    "        for part_name, part_bounds in self.part_bounds.items():\n",
    "            # get part vid and fid\n",
    "            part_vid = torch.LongTensor(self.part_vid_fid[part_name]['vert_id']).to(vertices.device)\n",
    "            part_fid = torch.LongTensor(self.part_vid_fid[part_name]['face_id']).to(vertices.device)\n",
    "            pv = PartVolume(part_name, vertices, self.faces)\n",
    "            for bound_name, bound_vids in part_bounds.items():\n",
    "                pv.close_mesh(bound_vids)\n",
    "            # add extra vids and fids to original part ids\n",
    "            new_vert_ids = torch.LongTensor(pv.new_vert_ids).to(vertices.device)\n",
    "            new_face_ids = torch.LongTensor(pv.new_face_ids).to(vertices.device)\n",
    "            part_vid = torch.cat((part_vid, new_vert_ids), dim=0)\n",
    "            part_fid = torch.cat((part_fid, new_face_ids), dim=0)\n",
    "            pv.extract_part_triangles(part_vid, part_fid)\n",
    "            part_volume.append(pv.part_volume())\n",
    "        return torch.vstack(part_volume).permute(1,0).to(vertices.device)\n",
    "\n",
    "    def vertex_id_to_part_volume_mapping(self, per_part_volume, device):\n",
    "        batch_size = per_part_volume.shape[0]\n",
    "        self.hd_vid_in_part = self.hd_vid_in_part.to(device)\n",
    "        hd_vid_in_part = self.hd_vid_in_part[None, :, :].repeat(batch_size, 1, 1)\n",
    "        vid_to_vol = torch.bmm(hd_vid_in_part, per_part_volume[:, :, None])\n",
    "        return vid_to_vol\n",
    "\n",
    "    def vertex_id_to_part_mapping(self, hd_vert_on_fid, fid_to_part):\n",
    "        vid_to_part = torch.mm(hd_vert_on_fid, fid_to_part)\n",
    "        return vid_to_part\n",
    "\n",
    "    def forward(self, vertices):\n",
    "        # Note: the vertices should be aligned along y-axis and in world coordinates\n",
    "        batch_size = vertices.shape[0]\n",
    "        # calculate per part volume\n",
    "        per_part_volume = self.compute_per_part_volume(vertices)\n",
    "        # sample 20k vertices uniformly on the smpl mesh\n",
    "        vertices_hd = self.hdfy_op.hdfy_mesh(vertices)\n",
    "        # get volume per vertex id in the hd mesh\n",
    "        volume_per_vert_hd = self.vertex_id_to_part_volume_mapping(per_part_volume, vertices.device)\n",
    "        # calculate com using volume weighted mean\n",
    "        com = torch.sum(vertices_hd * volume_per_vert_hd, dim=1) / torch.sum(volume_per_vert_hd, dim=1)\n",
    "\n",
    "        # # get COM of the SMPLX mesh\n",
    "        # triangles = torch.index_select(vertices, 1, self.faces.view(-1)).reshape(batch_size, -1, 3, 3)\n",
    "        # triangle_centroids = torch.mean(triangles, dim=2)\n",
    "        # triangle_area = self.compute_triangle_area(triangles)\n",
    "        # com_naive = torch.einsum('bij,bi->bj', triangle_centroids, triangle_area) / torch.sum(triangle_area, dim=1)\n",
    "\n",
    "        # pressure based center of support\n",
    "        ground_plane_height = 0.0\n",
    "        eps = 1e-6\n",
    "        vertex_height = (vertices_hd[:, :, 1] - ground_plane_height)\n",
    "        inside_mask = (vertex_height < 0.0).float()\n",
    "        outside_mask = (vertex_height >= 0.0).float()\n",
    "        pressure_weights = inside_mask * (1-self.cop_k*vertex_height) + outside_mask *  torch.exp(-self.cop_w * vertex_height)\n",
    "        cop = torch.sum(vertices_hd * pressure_weights.unsqueeze(-1), dim=1) / (torch.sum(pressure_weights, dim=1, keepdim=True) +eps)\n",
    "\n",
    "        # naive center of support\n",
    "        # vertex_height_robustified = GMoF_unscaled(rho=self.gmof_rho)(vertex_height)\n",
    "        contact_confidence = torch.sum(pressure_weights, dim=1)\n",
    "        # contact_mask = (vertex_height < self.contact_thresh).float()\n",
    "        # num_contact_verts = torch.sum(contact_mask, dim=1)\n",
    "        # contact_centroid_naive = torch.sum(vertices_hd * contact_mask[:, :, None], dim=1) / (torch.sum(contact_mask, dim=1) + eps)\n",
    "\n",
    "        # project com, cop to ground plane (x-z plane)\n",
    "        # weight loss by number of contact vertices to zero out if zero vertices in contact\n",
    "        return com, cop, contact_confidence\n",
    "        \n"
   ],
   "metadata": {
    "collapsed": false,
    "ExecuteTime": {
     "end_time": "2024-04-08T12:43:02.836448Z",
     "start_time": "2024-04-08T12:43:02.821480800Z"
    }
   },
   "id": "3b4813a0ececd2",
   "execution_count": 183
  },
  {
   "cell_type": "code",
   "outputs": [],
   "source": [
    "body_model_config = dict(\n",
    "            type='smplx',\n",
    "            num_betas=10,\n",
    "            use_face_contour=True,\n",
    "            use_pca=False,\n",
    "            flat_hand_mean=True,\n",
    "            model_path='D:/MMLAB/mmhuman3d/data/body_models/smplx',\n",
    "            keypoint_src='smplx',\n",
    "            keypoint_dst='smplx',\n",
    "        )\n",
    "from mmhuman3d.models.body_models.builder import build_body_model\n",
    "body_model = build_body_model(body_model_config)\n",
    "poses = torch.tensor(h_data['smplx']['fullpose'])\n",
    "NUM_JOINTS = body_model.NUM_JOINTS\n",
    "NUM_BODY_JOINTS = body_model.NUM_BODY_JOINTS\n",
    "NUM_DIM = 3 * (NUM_JOINTS + 1)\n",
    "poses = poses.view(poses.shape[0], -1, (NUM_JOINTS + 1) * 3)\n",
    "betas = torch.tensor(h_data['smplx']['betas'])\n"
   ],
   "metadata": {
    "collapsed": false,
    "ExecuteTime": {
     "end_time": "2024-04-08T12:43:04.991367900Z",
     "start_time": "2024-04-08T12:43:04.038335400Z"
    }
   },
   "id": "f2e44ffdfc63be74",
   "execution_count": 184
  },
  {
   "cell_type": "code",
   "outputs": [],
   "source": [
    "pose_dict = body_model.tensor2dict(\n",
    "    full_pose=poses, betas=betas)\n",
    "model_output = body_model(**pose_dict)\n",
    "vertices = model_output['vertices']\n",
    "joints = model_output['joints']\n",
    "faces = body_model.faces\n"
   ],
   "metadata": {
    "collapsed": false,
    "ExecuteTime": {
     "end_time": "2024-04-08T12:43:05.082571900Z",
     "start_time": "2024-04-08T12:43:04.995783700Z"
    }
   },
   "id": "928cf271687ed4cc",
   "execution_count": 185
  },
  {
   "cell_type": "code",
   "outputs": [
    {
     "data": {
      "text/plain": "torch.Size([98, 10475, 3])"
     },
     "execution_count": 186,
     "metadata": {},
     "output_type": "execute_result"
    }
   ],
   "source": [
    "vertices.shape"
   ],
   "metadata": {
    "collapsed": false,
    "ExecuteTime": {
     "end_time": "2024-04-08T12:43:06.620259700Z",
     "start_time": "2024-04-08T12:43:06.582675700Z"
    }
   },
   "id": "a8db85fc3cae1b3d",
   "execution_count": 186
  },
  {
   "cell_type": "code",
   "outputs": [
    {
     "ename": "RuntimeError",
     "evalue": "shape '[6890, -1]' is invalid for input of size 3079650",
     "output_type": "error",
     "traceback": [
      "\u001B[1;31m---------------------------------------------------------------------------\u001B[0m",
      "\u001B[1;31mRuntimeError\u001B[0m                              Traceback (most recent call last)",
      "Cell \u001B[1;32mIn[189], line 2\u001B[0m\n\u001B[0;32m      1\u001B[0m a \u001B[38;5;241m=\u001B[39m StabilityLossCoP(faces \u001B[38;5;241m=\u001B[39m faces, model_type\u001B[38;5;241m=\u001B[39m\u001B[38;5;124m'\u001B[39m\u001B[38;5;124msmpl\u001B[39m\u001B[38;5;124m'\u001B[39m, device\u001B[38;5;241m=\u001B[39m\u001B[38;5;124m'\u001B[39m\u001B[38;5;124mcpu\u001B[39m\u001B[38;5;124m'\u001B[39m)\n\u001B[1;32m----> 2\u001B[0m com, cop, contact_confidence \u001B[38;5;241m=\u001B[39m \u001B[43ma\u001B[49m\u001B[43m(\u001B[49m\u001B[43mvertices\u001B[49m\u001B[43m)\u001B[49m\n",
      "File \u001B[1;32m~\\anaconda3\\envs\\open-mmlab\\lib\\site-packages\\torch\\nn\\modules\\module.py:1501\u001B[0m, in \u001B[0;36mModule._call_impl\u001B[1;34m(self, *args, **kwargs)\u001B[0m\n\u001B[0;32m   1496\u001B[0m \u001B[38;5;66;03m# If we don't have any hooks, we want to skip the rest of the logic in\u001B[39;00m\n\u001B[0;32m   1497\u001B[0m \u001B[38;5;66;03m# this function, and just call forward.\u001B[39;00m\n\u001B[0;32m   1498\u001B[0m \u001B[38;5;28;01mif\u001B[39;00m \u001B[38;5;129;01mnot\u001B[39;00m (\u001B[38;5;28mself\u001B[39m\u001B[38;5;241m.\u001B[39m_backward_hooks \u001B[38;5;129;01mor\u001B[39;00m \u001B[38;5;28mself\u001B[39m\u001B[38;5;241m.\u001B[39m_backward_pre_hooks \u001B[38;5;129;01mor\u001B[39;00m \u001B[38;5;28mself\u001B[39m\u001B[38;5;241m.\u001B[39m_forward_hooks \u001B[38;5;129;01mor\u001B[39;00m \u001B[38;5;28mself\u001B[39m\u001B[38;5;241m.\u001B[39m_forward_pre_hooks\n\u001B[0;32m   1499\u001B[0m         \u001B[38;5;129;01mor\u001B[39;00m _global_backward_pre_hooks \u001B[38;5;129;01mor\u001B[39;00m _global_backward_hooks\n\u001B[0;32m   1500\u001B[0m         \u001B[38;5;129;01mor\u001B[39;00m _global_forward_hooks \u001B[38;5;129;01mor\u001B[39;00m _global_forward_pre_hooks):\n\u001B[1;32m-> 1501\u001B[0m     \u001B[38;5;28;01mreturn\u001B[39;00m forward_call(\u001B[38;5;241m*\u001B[39margs, \u001B[38;5;241m*\u001B[39m\u001B[38;5;241m*\u001B[39mkwargs)\n\u001B[0;32m   1502\u001B[0m \u001B[38;5;66;03m# Do not call functions when jit is used\u001B[39;00m\n\u001B[0;32m   1503\u001B[0m full_backward_hooks, non_full_backward_hooks \u001B[38;5;241m=\u001B[39m [], []\n",
      "Cell \u001B[1;32mIn[183], line 106\u001B[0m, in \u001B[0;36mStabilityLossCoP.forward\u001B[1;34m(self, vertices)\u001B[0m\n\u001B[0;32m    104\u001B[0m per_part_volume \u001B[38;5;241m=\u001B[39m \u001B[38;5;28mself\u001B[39m\u001B[38;5;241m.\u001B[39mcompute_per_part_volume(vertices)\n\u001B[0;32m    105\u001B[0m \u001B[38;5;66;03m# sample 20k vertices uniformly on the smpl mesh\u001B[39;00m\n\u001B[1;32m--> 106\u001B[0m vertices_hd \u001B[38;5;241m=\u001B[39m \u001B[38;5;28;43mself\u001B[39;49m\u001B[38;5;241;43m.\u001B[39;49m\u001B[43mhdfy_op\u001B[49m\u001B[38;5;241;43m.\u001B[39;49m\u001B[43mhdfy_mesh\u001B[49m\u001B[43m(\u001B[49m\u001B[43mvertices\u001B[49m\u001B[43m)\u001B[49m\n\u001B[0;32m    107\u001B[0m \u001B[38;5;66;03m# get volume per vertex id in the hd mesh\u001B[39;00m\n\u001B[0;32m    108\u001B[0m volume_per_vert_hd \u001B[38;5;241m=\u001B[39m \u001B[38;5;28mself\u001B[39m\u001B[38;5;241m.\u001B[39mvertex_id_to_part_volume_mapping(per_part_volume, vertices\u001B[38;5;241m.\u001B[39mdevice)\n",
      "Cell \u001B[1;32mIn[182], line 47\u001B[0m, in \u001B[0;36mHDfier.hdfy_mesh\u001B[1;34m(self, vertices)\u001B[0m\n\u001B[0;32m     45\u001B[0m \u001B[38;5;28;01mif\u001B[39;00m \u001B[38;5;28mself\u001B[39m\u001B[38;5;241m.\u001B[39mhd_operator\u001B[38;5;241m.\u001B[39mdevice \u001B[38;5;241m!=\u001B[39m vertices\u001B[38;5;241m.\u001B[39mdevice:\n\u001B[0;32m     46\u001B[0m     \u001B[38;5;28mself\u001B[39m\u001B[38;5;241m.\u001B[39mhd_operator \u001B[38;5;241m=\u001B[39m \u001B[38;5;28mself\u001B[39m\u001B[38;5;241m.\u001B[39mhd_operator\u001B[38;5;241m.\u001B[39mto(vertices\u001B[38;5;241m.\u001B[39mdevice)\n\u001B[1;32m---> 47\u001B[0m hd_verts \u001B[38;5;241m=\u001B[39m \u001B[43msparse_batch_mm\u001B[49m\u001B[43m(\u001B[49m\u001B[38;5;28;43mself\u001B[39;49m\u001B[38;5;241;43m.\u001B[39;49m\u001B[43mhd_operator\u001B[49m\u001B[43m,\u001B[49m\u001B[43m \u001B[49m\u001B[43mvertices\u001B[49m\u001B[43m)\u001B[49m\u001B[38;5;241m.\u001B[39mto(torch\u001B[38;5;241m.\u001B[39mfloat)\n\u001B[0;32m     48\u001B[0m \u001B[38;5;28;01mreturn\u001B[39;00m hd_verts\n",
      "Cell \u001B[1;32mIn[182], line 12\u001B[0m, in \u001B[0;36msparse_batch_mm\u001B[1;34m(m1, m2)\u001B[0m\n\u001B[0;32m     10\u001B[0m batch_size \u001B[38;5;241m=\u001B[39m m2\u001B[38;5;241m.\u001B[39mshape[\u001B[38;5;241m0\u001B[39m]\n\u001B[0;32m     11\u001B[0m \u001B[38;5;66;03m# stack m2 into columns: (B x N x K) -> (N, B, K) -> (N, B * K)\u001B[39;00m\n\u001B[1;32m---> 12\u001B[0m m2_stack \u001B[38;5;241m=\u001B[39m \u001B[43mm2\u001B[49m\u001B[38;5;241;43m.\u001B[39;49m\u001B[43mtranspose\u001B[49m\u001B[43m(\u001B[49m\u001B[38;5;241;43m0\u001B[39;49m\u001B[43m,\u001B[49m\u001B[43m \u001B[49m\u001B[38;5;241;43m1\u001B[39;49m\u001B[43m)\u001B[49m\u001B[38;5;241;43m.\u001B[39;49m\u001B[43mreshape\u001B[49m\u001B[43m(\u001B[49m\u001B[43mm1\u001B[49m\u001B[38;5;241;43m.\u001B[39;49m\u001B[43mshape\u001B[49m\u001B[43m[\u001B[49m\u001B[38;5;241;43m1\u001B[39;49m\u001B[43m]\u001B[49m\u001B[43m,\u001B[49m\u001B[43m \u001B[49m\u001B[38;5;241;43m-\u001B[39;49m\u001B[38;5;241;43m1\u001B[39;49m\u001B[43m)\u001B[49m\n\u001B[0;32m     13\u001B[0m result \u001B[38;5;241m=\u001B[39m m1\u001B[38;5;241m.\u001B[39mmm(m2_stack)\u001B[38;5;241m.\u001B[39mreshape(m1\u001B[38;5;241m.\u001B[39mshape[\u001B[38;5;241m0\u001B[39m], batch_size, \u001B[38;5;241m-\u001B[39m\u001B[38;5;241m1\u001B[39m) \\\n\u001B[0;32m     14\u001B[0m            \u001B[38;5;241m.\u001B[39mtranspose(\u001B[38;5;241m1\u001B[39m, \u001B[38;5;241m0\u001B[39m)\n\u001B[0;32m     15\u001B[0m \u001B[38;5;28;01mreturn\u001B[39;00m result\n",
      "\u001B[1;31mRuntimeError\u001B[0m: shape '[6890, -1]' is invalid for input of size 3079650"
     ]
    }
   ],
   "source": [
    "a = StabilityLossCoP(faces = faces, model_type='smpl', device='cpu')\n",
    "com, cop, contact_confidence = a(vertices)"
   ],
   "metadata": {
    "collapsed": false,
    "ExecuteTime": {
     "end_time": "2024-04-08T12:43:50.611863300Z",
     "start_time": "2024-04-08T12:43:49.934961200Z"
    }
   },
   "id": "4997b2fd7d494d30",
   "execution_count": 189
  },
  {
   "cell_type": "markdown",
   "source": [
    "# OLD"
   ],
   "metadata": {
    "collapsed": false
   },
   "id": "1070ca0de33e947d"
  },
  {
   "cell_type": "code",
   "outputs": [],
   "source": [
    "import "
   ],
   "metadata": {
    "collapsed": false
   },
   "id": "2c3d014b704ff6d8"
  },
  {
   "cell_type": "code",
   "outputs": [],
   "source": [
    "det_width, det_height = 224,224\n",
    "focal_length=5000\n",
    "bbox = boxes_xyxy[0]\n",
    "cam_transl = torch.Tensor(pred_cam[0])\n",
    "vertices = torch.Tensor(keypoints[0,:, :3 ])\n",
    "Ks = torch.Tensor(convert_bbox_to_intrinsic(bbox, bbox_format='xyxy'))\n",
    "K = torch.Tensor(\n",
    "    get_default_hmr_intrinsic(\n",
    "        focal_length=focal_length,\n",
    "        det_height=det_height,\n",
    "        det_width=det_width))[0]\n",
    "\n",
    "T = torch.cat([\n",
    "    cam_transl[..., [1]], cam_transl[..., [2]], 2 * focal_length /\n",
    "    (det_width * cam_transl[..., [0]] + 1e-9)\n",
    "], -1)"
   ],
   "metadata": {
    "collapsed": false,
    "ExecuteTime": {
     "end_time": "2024-04-07T16:16:23.961049Z",
     "start_time": "2024-04-07T16:16:23.932052500Z"
    }
   },
   "id": "dfab6149f485854c",
   "execution_count": 51
  },
  {
   "cell_type": "code",
   "outputs": [],
   "source": [
    "a = vertices + T"
   ],
   "metadata": {
    "collapsed": false,
    "ExecuteTime": {
     "end_time": "2024-04-07T16:16:25.349912100Z",
     "start_time": "2024-04-07T16:16:25.329550900Z"
    }
   },
   "id": "881c8c97a7624919",
   "execution_count": 52
  },
  {
   "cell_type": "code",
   "outputs": [
    {
     "data": {
      "text/plain": "tensor([[5.5460, 0.0000, 0.1435],\n        [0.0000, 5.5460, 0.0795],\n        [0.0000, 0.0000, 1.0000]])"
     },
     "execution_count": 62,
     "metadata": {},
     "output_type": "execute_result"
    }
   ],
   "source": [
    "Ks"
   ],
   "metadata": {
    "collapsed": false,
    "ExecuteTime": {
     "end_time": "2024-04-07T16:19:21.164690300Z",
     "start_time": "2024-04-07T16:19:21.099947700Z"
    }
   },
   "id": "b5ea76398e07a164",
   "execution_count": 62
  },
  {
   "cell_type": "code",
   "outputs": [],
   "source": [
    "# convert 3d keypoints to 2d projections\n",
    "Ks = K.inverse() @ Ks @ K\n",
    "keypoints_proj = Ks @ (vertices+T).T\n",
    "\n"
   ],
   "metadata": {
    "collapsed": false,
    "ExecuteTime": {
     "end_time": "2024-04-07T16:16:26.916997800Z",
     "start_time": "2024-04-07T16:16:26.890399500Z"
    }
   },
   "id": "fbc28c054ba4f064",
   "execution_count": 53
  },
  {
   "cell_type": "code",
   "outputs": [
    {
     "data": {
      "text/plain": "array([[ 8.13567   ,  7.392222  , 43.811047  ],\n       [ 8.263477  ,  4.7312984 , 43.79423   ],\n       [ 6.9090743 ,  2.7138216 , 43.771545  ],\n       [ 6.9980206 ,  2.7567542 , 44.039524  ],\n       [ 6.4594765 ,  5.290786  , 44.029472  ],\n       [ 3.8655303 ,  6.0134964 , 44.048965  ],\n       [ 6.828209  ,  2.1001434 , 43.59755   ],\n       [ 5.665564  ,  1.282096  , 43.684402  ],\n       [ 6.8601785 ,  0.3234438 , 43.788425  ],\n       [ 7.563809  ,  0.5369147 , 44.058117  ],\n       [ 7.5501266 ,  1.9016277 , 44.2003    ],\n       [ 8.391019  ,  1.900821  , 43.98271   ],\n       [ 7.396494  ,  0.14446223, 43.91024   ],\n       [ 7.7141137 , -0.9741654 , 43.89562   ]], dtype=float32)"
     },
     "execution_count": 57,
     "metadata": {},
     "output_type": "execute_result"
    }
   ],
   "source": [
    "keypoints_proj.to('cpu').numpy().T"
   ],
   "metadata": {
    "collapsed": false,
    "ExecuteTime": {
     "end_time": "2024-04-07T16:16:57.109317500Z",
     "start_time": "2024-04-07T16:16:56.982252500Z"
    }
   },
   "id": "d0c05d2544b8bd8f",
   "execution_count": 57
  },
  {
   "cell_type": "code",
   "outputs": [],
   "source": [
    "#visualize_3d_keypoints(keypoints_proj.to('cpu').numpy().T, bound = False)"
   ],
   "metadata": {
    "collapsed": false,
    "ExecuteTime": {
     "end_time": "2024-04-07T16:20:51.638715800Z",
     "start_time": "2024-04-07T16:20:51.510232200Z"
    }
   },
   "id": "e6a896432d02de86",
   "execution_count": 67
  },
  {
   "cell_type": "code",
   "outputs": [],
   "source": [
    "c = [829.28393555, 509.6375227 ]\n",
    "s = [1242.30453491, 1242.30453491]\n",
    "crop_transform = [[ 2.06068630e-01, -0.00000000e+00, -4.28894046e+01], [-4.28407392e-18,  2.06068638e-01,  2.29796921e+01]]"
   ],
   "metadata": {
    "collapsed": false
   },
   "id": "f561253619189163"
  },
  {
   "cell_type": "code",
   "outputs": [
    {
     "data": {
      "text/plain": "array([1.0170028 , 0.12261761, 0.22002508], dtype=float32)"
     },
     "execution_count": 47,
     "metadata": {},
     "output_type": "execute_result"
    }
   ],
   "source": [
    "h_data['pred_cams'][0]"
   ],
   "metadata": {
    "collapsed": false,
    "ExecuteTime": {
     "end_time": "2024-04-07T16:14:41.688896100Z",
     "start_time": "2024-04-07T16:14:41.658683Z"
    }
   },
   "id": "9b1d1a325472ebd5",
   "execution_count": 47
  },
  {
   "cell_type": "markdown",
   "source": [
    "# Other"
   ],
   "metadata": {
    "collapsed": false
   },
   "id": "ee6ea1d0a798e9a2"
  },
  {
   "cell_type": "code",
   "outputs": [],
   "source": [
    "import numpy as np\n",
    "import matplotlib.pyplot as plt\n",
    "import matplotlib.animation as animation\n",
    "\n",
    "def generate_3d_keypoints_video(keypoints_array,M, output_file, fps=30):\n",
    "    # Extracting dimensions\n",
    "    n, k, _ = keypoints_array.shape\n",
    "    \n",
    "    # Initialize figure and 3D axis\n",
    "    fig = plt.figure()\n",
    "    ax = fig.add_subplot(111, projection='3d')\n",
    "    ax.set_xlabel('X')\n",
    "    ax.set_ylabel('Y')\n",
    "    ax.set_zlabel('Z')\n",
    "    \n",
    "    \n",
    "    # Setting axis limits (You might need to adjust these based on your data)\n",
    "    ax.set_xlim([-1.2,1.2])\n",
    "    ax.set_ylim([-1.2,1.2])\n",
    "    ax.set_zlim([-1.2,1.2])\n",
    "    \n",
    "    # Initialize empty plot\n",
    "    sc = ax.scatter([], [], [])\n",
    "    # Initialize empty CoM plot\n",
    "    com = ax.scatter([], [], [], c='r', marker='o')\n",
    "    \n",
    "    \n",
    "    # Intialize plot for CoM\n",
    "    # rotate the 3d plot x zero, y zero is at the bottom left\n",
    "    # set origin top left corner\n",
    "    ax.invert_yaxis()\n",
    "    ax.view_init(elev=80, azim=-90,roll=0)\n",
    "    \n",
    "    \n",
    "\n",
    "    \n",
    "    # Update function for animation\n",
    "    def update_plot(i):\n",
    "        sc._offsets3d = (keypoints_array[i,:,0], keypoints_array[i,:,1], keypoints_array[i,:,2])\n",
    "        com._offsets3d = (M[i,0], M[i,1], M[i,2])      \n",
    "            \n",
    "        # Clear existing text\n",
    "        for txt in ax.texts:\n",
    "            txt.remove()\n",
    "        # add number to each keypoint\n",
    "        for j in range(k):\n",
    "            ax.text(keypoints_array[i,j,0], keypoints_array[i,j,1], keypoints_array[i,j,2], '%s' % (str(j)), size=10, zorder=1, color='k')\n",
    "        return sc, com,\n",
    "\n",
    "    \n",
    "    # Create animation\n",
    "    ani = animation.FuncAnimation(fig, update_plot, frames=n, interval=1000/fps, blit=True)\n",
    "    \n",
    "    # Save animation as video file\n",
    "    ani.save(output_file, writer='ffmpeg', fps=fps, codec='libx264')\n",
    "    plt.close(fig)\n",
    "    \n",
    "\n",
    "generate_3d_keypoints_video(keypoints,M = M,output_file =str(data_root/'3d_keypoints.mp4'), fps=10)\n"
   ],
   "metadata": {
    "collapsed": false
   },
   "id": "940227ae9ee05c80"
  },
  {
   "cell_type": "code",
   "outputs": [],
   "source": [
    "from mmhuman3d.utils.demo_utils import (\n",
    "    convert_bbox_to_intrinsic,\n",
    "    convert_crop_cam_to_orig_img,\n",
    "    convert_kp2d_to_bbox,\n",
    "    get_default_hmr_intrinsic,\n",
    "    get_different_colors,\n",
    ")"
   ],
   "metadata": {
    "collapsed": false
   },
   "id": "7af9ed122199e945"
  },
  {
   "cell_type": "code",
   "outputs": [],
   "source": [
    "# extrat first image from video\n",
    "cap = cv2.VideoCapture(str(mesh_vid))\n",
    "w, h = int(cap.get(cv2.CAP_PROP_FRAME_WIDTH)), int(cap.get(cv2.CAP_PROP_FRAME_HEIGHT))\n",
    "plot_keypoints = keypoints[0,:,:2].copy()\n",
    "plot_keypoints= plot_keypoints * h_data['pred_cams'][0][0] + h_data['pred_cams'][0][1]\n",
    "ret, frame = cap.read()\n",
    "cap.release()\n",
    "# plot box on first image\n",
    "box = boxes_xyxy[0]\n",
    "x1, y1, x2, y2,conf = box\n",
    "x1, y1, x2, y2 = int(x1), int(y1), int(x2), int(y2)\n",
    "# extract box width and height and center\n",
    "cv2.rectangle(frame, (x1, y1), (x2, y2), (0, 255, 0), 2)\n",
    "# plot 2d keypoints on first image (keypoints 2d are relative to the bbox)\n",
    "x1, y1, x2, y2,conf = box\n",
    "# top left of the bbox is -1,-1 and bottom right is 1,1\n",
    "# so we need to convert keypoints to the image coordinate system\n",
    "w,h,c_x,c_y = x2-x1, y2-y1, (x1+x2)/2, (y1+y2)/2\n",
    "for kp in plot_keypoints:\n",
    "    x, y = kp\n",
    "    x, y = int(c_x+x*w), int(c_y+y*h)\n",
    "    cv2.circle(frame, (x, y), 3, (0, 255, 0), -1)\n",
    "\n",
    "    \n",
    "# present image using Image\n",
    "Image.fromarray(frame)"
   ],
   "metadata": {
    "collapsed": false
   },
   "id": "1501491386ff6704"
  },
  {
   "cell_type": "code",
   "outputs": [],
   "source": [
    "# plot 2d keypoints on video and export it to output_vid\n",
    "cap = cv2.VideoCapture(str(input_vid))\n",
    "fourcc = cv2.VideoWriter_fourcc(*'XVID')\n",
    "fps = cap.get(cv2.CAP_PROP_FPS)\n",
    "w, h = int(cap.get(cv2.CAP_PROP_FRAME_WIDTH)), int(cap.get(cv2.CAP_PROP_FRAME_HEIGHT))\n",
    "out = cv2.VideoWriter(str(output_vid), fourcc, fps, (w, h))\n",
    "frame_idx = 0\n",
    "for i in range(int(cap.get(cv2.CAP_PROP_FRAME_COUNT))):\n",
    "    ret, frame = cap.read()\n",
    "    if not ret:\n",
    "        break\n",
    "    frame_idx += 1\n",
    "    if frame_idx >= keypoints2d.shape[0]:\n",
    "        break\n",
    "    box = boxes_xyxy[frame_idx]\n",
    "    x1, y1, x2, y2,conf = box\n",
    "    w,h,c_x,c_y = x2-x1, y2-y1, (x1+x2)/2, (y1+y2)/2\n",
    "    for kp in keypoints2d[frame_idx]:\n",
    "        x, y = kp\n",
    "        x, y = int(c_x+x*w), int(c_y+y*h)\n",
    "        cv2.circle(frame, (x, y), 3, (0, 255, 0), -1)\n",
    "    out.write(frame)\n",
    "out.release()\n",
    "cap.release()"
   ],
   "metadata": {
    "collapsed": false
   },
   "id": "fc5c0574b687982a"
  },
  {
   "cell_type": "code",
   "outputs": [],
   "source": [
    "keypoints = h_data['keypoints3d'][:, :, :3]\n",
    "boxes_xyxy = h_data['bbox_xywh']\n",
    "pred_cam = h_data['pred_cams']\n",
    "cap = cv2.VideoCapture(str(input_vid))\n",
    "w, h = int(cap.get(cv2.CAP_PROP_FRAME_WIDTH)), int(cap.get(cv2.CAP_PROP_FRAME_HEIGHT))\n",
    "cap.release()\n",
    "keypoints2d = keypoints[:, :, :2]\n",
    "# kp3d.view(num_frames, -1, 3)"
   ],
   "metadata": {
    "collapsed": false
   },
   "id": "a67acf316628bf56"
  }
 ],
 "metadata": {
  "kernelspec": {
   "display_name": "Python 3",
   "language": "python",
   "name": "python3"
  },
  "language_info": {
   "codemirror_mode": {
    "name": "ipython",
    "version": 2
   },
   "file_extension": ".py",
   "mimetype": "text/x-python",
   "name": "python",
   "nbconvert_exporter": "python",
   "pygments_lexer": "ipython2",
   "version": "2.7.6"
  }
 },
 "nbformat": 4,
 "nbformat_minor": 5
}
